{
  "nbformat": 4,
  "nbformat_minor": 0,
  "metadata": {
    "colab": {
      "provenance": [],
      "authorship_tag": "ABX9TyN8d3leVCNtzwgkSW//fFt+",
      "include_colab_link": true
    },
    "kernelspec": {
      "name": "python3",
      "display_name": "Python 3"
    },
    "language_info": {
      "name": "python"
    }
  },
  "cells": [
    {
      "cell_type": "markdown",
      "metadata": {
        "id": "view-in-github",
        "colab_type": "text"
      },
      "source": [
        "<a href=\"https://colab.research.google.com/github/victor-huallpa/Alura-Latam-One-Oracle-Education/blob/main/desafio_2.ipynb\" target=\"_parent\"><img src=\"https://colab.research.google.com/assets/colab-badge.svg\" alt=\"Open In Colab\"/></a>"
      ]
    },
    {
      "cell_type": "markdown",
      "source": [
        "1 - Escribe un código que lee la lista siguiente y realiza:"
      ],
      "metadata": {
        "id": "bHs8JMzHDzqh"
      }
    },
    {
      "cell_type": "code",
      "execution_count": 3,
      "metadata": {
        "id": "Q1GCxqRJDsF_"
      },
      "outputs": [],
      "source": [
        "lista = [16, 14, 63, 65, 17, 99, 70, 11, 20, 48, 79, 32, 17, 89, 12, 25, 66]"
      ]
    },
    {
      "cell_type": "markdown",
      "source": [
        "# 1. Leer el tamaño de la lista"
      ],
      "metadata": {
        "id": "gDTYBfB7ELhc"
      }
    },
    {
      "cell_type": "code",
      "source": [
        "print(len(lista))"
      ],
      "metadata": {
        "colab": {
          "base_uri": "https://localhost:8080/"
        },
        "id": "HAwwvxbeEMaX",
        "outputId": "f8e444e1-2c44-4978-f65f-0dd1669ab071"
      },
      "execution_count": 2,
      "outputs": [
        {
          "output_type": "stream",
          "name": "stdout",
          "text": [
            "17\n"
          ]
        }
      ]
    },
    {
      "cell_type": "markdown",
      "source": [
        "# 2. Leer el valor máximo y mínimo"
      ],
      "metadata": {
        "id": "OY3mDkUtET2p"
      }
    },
    {
      "cell_type": "code",
      "source": [
        "print(max(lista))\n",
        "print(min(lista))"
      ],
      "metadata": {
        "colab": {
          "base_uri": "https://localhost:8080/"
        },
        "id": "uZ6hBcKqEVL_",
        "outputId": "567780d5-2c62-41b9-ad86-a087feda4c6e"
      },
      "execution_count": 4,
      "outputs": [
        {
          "output_type": "stream",
          "name": "stdout",
          "text": [
            "99\n",
            "11\n"
          ]
        }
      ]
    },
    {
      "cell_type": "markdown",
      "source": [
        "# 3. Calcular la suma de los valores de la lista"
      ],
      "metadata": {
        "id": "216y4DVZEhTx"
      }
    },
    {
      "cell_type": "code",
      "source": [
        "print(sum(lista))"
      ],
      "metadata": {
        "colab": {
          "base_uri": "https://localhost:8080/"
        },
        "id": "GMiXcf0JElqD",
        "outputId": "74d57471-8770-49a0-817d-41f27a43fb30"
      },
      "execution_count": 5,
      "outputs": [
        {
          "output_type": "stream",
          "name": "stdout",
          "text": [
            "743\n"
          ]
        }
      ]
    },
    {
      "cell_type": "markdown",
      "source": [
        "# 4. Mostrar un mensaje al final: La lista tiene `tamano` números, donde el mayor\n",
        "# es `mayor` y el menor es `menor`. La suma de los valores es `suma`.\n"
      ],
      "metadata": {
        "id": "jP8hLuREEqHn"
      }
    },
    {
      "cell_type": "code",
      "source": [
        "msj = f\"el tamanio de la lista {len(lista)}, su maximo valor es {max(lista)}, su minimo valor es {min(lista)} y la suma de sus elemetos es {sum(lista)}\""
      ],
      "metadata": {
        "id": "qPHu1nW6E0tI"
      },
      "execution_count": 7,
      "outputs": []
    },
    {
      "cell_type": "code",
      "source": [
        "print(msj)"
      ],
      "metadata": {
        "colab": {
          "base_uri": "https://localhost:8080/"
        },
        "id": "WRbhSHMyFdsI",
        "outputId": "0dfa0933-8ef9-429b-b99a-a88917c8cb5f"
      },
      "execution_count": 8,
      "outputs": [
        {
          "output_type": "stream",
          "name": "stdout",
          "text": [
            "el tamanio de la lista 17, su maximo valor es 99, su minimo valor es 11 y la suma de sus elemetos es 743\n"
          ]
        }
      ]
    },
    {
      "cell_type": "markdown",
      "source": [
        "#tabla de multiplicar del 1 al 10"
      ],
      "metadata": {
        "id": "XKUmTTSfKWMG"
      }
    },
    {
      "cell_type": "code",
      "source": [
        "def mulitplicar(tabla:int):\n",
        "  for i in range(1, 11):\n",
        "    print (f\"{tabla} x {i} = {tabla*i}\")\n",
        "\n",
        "tabla_mulitplicar = int(input(\"Ingrese la tabla que desea ver: \"))\n",
        "mulitplicar(tabla_mulitplicar)"
      ],
      "metadata": {
        "colab": {
          "base_uri": "https://localhost:8080/"
        },
        "id": "14B1Or9lKaqP",
        "outputId": "f0b4710c-b38e-4674-b237-b1f28e610af2"
      },
      "execution_count": 10,
      "outputs": [
        {
          "output_type": "stream",
          "name": "stdout",
          "text": [
            "Ingrese la tabla que desea ver: 5\n",
            "5 x 1 = 5\n",
            "5 x 2 = 10\n",
            "5 x 3 = 15\n",
            "5 x 4 = 20\n",
            "5 x 5 = 25\n",
            "5 x 6 = 30\n",
            "5 x 7 = 35\n",
            "5 x 8 = 40\n",
            "5 x 9 = 45\n",
            "5 x 10 = 50\n"
          ]
        }
      ]
    },
    {
      "cell_type": "markdown",
      "source": [
        "3 - Crea una función que lea la siguiente lista y devuelva una nueva lista con los múltiplos de 3:"
      ],
      "metadata": {
        "id": "sBpVmSQFLTvh"
      }
    },
    {
      "cell_type": "code",
      "source": [
        "lista = [97, 80, 94, 88, 80, 1, 16, 53, 62, 32, 24, 99]"
      ],
      "metadata": {
        "id": "ONRIjrIMLUZm"
      },
      "execution_count": 11,
      "outputs": []
    },
    {
      "cell_type": "code",
      "source": [
        "new_list = list(filter(lambda x: x%3 == 0, lista))#usanod filter puedes filtar los datos que deseas en la nueva lista\n",
        "new_list2 = [x for x in lista if x%3 == 0]\n",
        "new_list\n",
        "print(new_list2)"
      ],
      "metadata": {
        "colab": {
          "base_uri": "https://localhost:8080/"
        },
        "id": "YeNBPYbfLX0z",
        "outputId": "3de0f8b4-d238-4c6d-c14b-d368770cb1bf"
      },
      "execution_count": 25,
      "outputs": [
        {
          "output_type": "stream",
          "name": "stdout",
          "text": [
            "[24, 99]\n"
          ]
        }
      ]
    },
    {
      "cell_type": "markdown",
      "source": [
        "4 - Crea una lista de los cuadrados de los números de la siguiente lista [1, 2, 3, 4, 5, 6, 7, 8, 9, 10]. Recuerda utilizar las funciones lambda y map() para calcular el cuadrado de cada elemento de la lista."
      ],
      "metadata": {
        "id": "xV2KYE2tPGu4"
      }
    },
    {
      "cell_type": "code",
      "source": [
        "lista = [1, 2, 3, 4, 5, 6, 7, 8, 9, 10]"
      ],
      "metadata": {
        "id": "6QI6HMj-PNp7"
      },
      "execution_count": 26,
      "outputs": []
    },
    {
      "cell_type": "code",
      "source": [
        "new_list = list(map(lambda x: x**2, lista))\n",
        "# new_list\n",
        "\n",
        "new_list2 = list(map(lambda x: pow(x,2),lista))\n",
        "new_list2"
      ],
      "metadata": {
        "colab": {
          "base_uri": "https://localhost:8080/"
        },
        "id": "hFFHfnB7PXYh",
        "outputId": "a58c192b-d02a-4215-fe96-a9215e3ce337"
      },
      "execution_count": 28,
      "outputs": [
        {
          "output_type": "execute_result",
          "data": {
            "text/plain": [
              "[1, 4, 9, 16, 25, 36, 49, 64, 81, 100]"
            ]
          },
          "metadata": {},
          "execution_count": 28
        }
      ]
    },
    {
      "cell_type": "markdown",
      "source": [
        "5 - Has sido contratado como científico(a) de datos de una asociación de skate. Para analizar las notas recibidas por los skaters en algunas competiciones a lo largo del año, necesitas crear un código que calcule la puntuación de los atletas. Para ello, tu código debe recibir 5 notas ingresadas por los jueces."
      ],
      "metadata": {
        "id": "nJEfIq0EQ9Q_"
      }
    },
    {
      "cell_type": "code",
      "source": [
        "list_punt = []\n",
        "list_part = []\n",
        "num_event = int(input(\"Ingrese la cantida d de eventos que se realizaron: \"))\n",
        "\n",
        "for i in range(1, 6):\n",
        "  for j in range(1, num_event+1):\n",
        "    nota = float(input(f\"ingrese la puntuacion del paricipante {i} en la competicion {j}: \"))\n",
        "    list_part.append(nota)\n",
        "  list_punt.append(sum(list_part)/num_event)\n",
        "  list_part = []\n",
        "\n",
        "print([round(x, 2) for x in list_punt])\n"
      ],
      "metadata": {
        "colab": {
          "base_uri": "https://localhost:8080/"
        },
        "id": "Qz7q0XFlQ-Lb",
        "outputId": "43fe72dd-9e31-4526-f18a-e1502afb5f4f"
      },
      "execution_count": 29,
      "outputs": [
        {
          "output_type": "stream",
          "name": "stdout",
          "text": [
            "Ingrese la cantida d de eventos que se realizaron: 3\n",
            "ingrese la puntuacion del paricipante 1 en la competicion 19.0\n",
            "ingrese la puntuacion del paricipante 1 en la competicion 24.0\n",
            "ingrese la puntuacion del paricipante 1 en la competicion 35.5\n",
            "ingrese la puntuacion del paricipante 2 en la competicion 17\n",
            "ingrese la puntuacion del paricipante 2 en la competicion 27.6\n",
            "ingrese la puntuacion del paricipante 2 en la competicion 38.7\n",
            "ingrese la puntuacion del paricipante 3 en la competicion 14.4\n",
            "ingrese la puntuacion del paricipante 3 en la competicion 25\n",
            "ingrese la puntuacion del paricipante 3 en la competicion 37\n",
            "ingrese la puntuacion del paricipante 4 en la competicion 13.5\n",
            "ingrese la puntuacion del paricipante 4 en la competicion 28\n",
            "ingrese la puntuacion del paricipante 4 en la competicion 39\n",
            "ingrese la puntuacion del paricipante 5 en la competicion 110\n",
            "ingrese la puntuacion del paricipante 5 en la competicion 25.5\n",
            "ingrese la puntuacion del paricipante 5 en la competicion 36.1\n",
            "[18.5, 23.299999999999997, 16.4, 20.5, 21.6]\n"
          ]
        }
      ]
    },
    {
      "cell_type": "markdown",
      "source": [
        "    6 - Para cumplir con una demanda de una institución educativa para el análisis del rendimiento de sus estudiantes, necesitas crear una función que reciba una lista de 4 notas y devuelva:"
      ],
      "metadata": {
        "id": "GsbHNeh4V44i"
      }
    },
    {
      "cell_type": "code",
      "source": [
        "def promedio(notas:list)->tuple:\n",
        "  resultado = sum(notas)/len(notas)\n",
        "  if resultado >= 7:\n",
        "    situacion = \"Aprovado(a)\"\n",
        "  else:\n",
        "    situacion = \"Reprovado(a)\"\n",
        "\n",
        "  return (resultado, situacion, min(notas), max(notas))\n",
        "\n",
        "datos = promedio([5.5, 6.7, 8.0, 7.5])\n",
        "\n",
        "print(f\"El estudiante pbtuvo una media de {datos[0]}, con la mayor nota de {datos[3]} puntos y la menor nota de {datos[2]} y tiene situacion de {datos[1]}\")"
      ],
      "metadata": {
        "colab": {
          "base_uri": "https://localhost:8080/"
        },
        "id": "H42lwhxxV4mx",
        "outputId": "e2f6efb5-f8d2-4359-bc90-ea16d3a77dfc"
      },
      "execution_count": 32,
      "outputs": [
        {
          "output_type": "stream",
          "name": "stdout",
          "text": [
            "El estudiante pbtuvo una media de 6.925, con la mayor nota de 8.0 puntos y la menor nota de 5.5 y tiene situacion de Reprovado(a)\n"
          ]
        }
      ]
    },
    {
      "cell_type": "markdown",
      "source": [
        "7 - Has recibido una demanda para tratar 2 listas con los nombres y apellidos de cada estudiante concatenándolos para presentar sus nombres completos en la forma Nombre Apellido. Las listas son:"
      ],
      "metadata": {
        "id": "_PX7HTUBY2ty"
      }
    },
    {
      "cell_type": "code",
      "source": [
        "nombres = [\"juan\", \"MaRia\", \"JOSÉ\"]\n",
        "apellidos = [\"SILVA\", \"sosa\", \"Tavares\"]\n",
        "\n",
        "# Normalizar nombres y apellidos y crear una nueva lista con los nombres completos\n",
        "# Puedes apoyarte en la función map()\n",
        "\n",
        "\n",
        "nombre_apellidos = list(map(lambda x, y: x.capitalize() + \" \" + y.capitalize(), nombres, apellidos))\n",
        "nombre_apellidos"
      ],
      "metadata": {
        "colab": {
          "base_uri": "https://localhost:8080/"
        },
        "id": "huq35_mfY463",
        "outputId": "74417e84-8088-42fd-d5e1-f52ec6455f66"
      },
      "execution_count": 41,
      "outputs": [
        {
          "output_type": "execute_result",
          "data": {
            "text/plain": [
              "['Juan Silva', 'Maria Sosa', 'José Tavares']"
            ]
          },
          "metadata": {},
          "execution_count": 41
        }
      ]
    },
    {
      "cell_type": "markdown",
      "source": [
        "8 - Como científico de datos en un equipo de fútbol, necesitas implementar nuevas formas de recopilación de datos sobre el rendimiento de los jugadores y del equipo en su conjunto. Tu primera acción es crear una forma de calcular la puntuación del equipo en el campeonato nacional a partir de los datos de goles marcados y recibidos en cada juego.\n",
        "\n",
        "Escribe una función llamada calcula_puntos() que recibe como parámetros dos listas de números enteros, representando los goles marcados y recibidos por el equipo en cada partido del campeonato. La función debe devolver la puntuación del equipo y el rendimiento en porcentaje, teniendo en cuenta que la victoria vale 3 puntos, el empate 1 punto y la derrota 0 puntos.\n",
        "\n",
        "Nota: si la cantidad de goles marcados en un partido es mayor que los recibidos, el equipo ganó. En caso de ser igual, el equipo empató, y si es menor, el equipo perdió. Para calcular el rendimiento, debemos hacer la razón entre la puntuación del equipo y la puntuación máxima que podría recibir.\n",
        "\n",
        "Para la prueba, utiliza las siguientes listas de goles marcados y recibidos:"
      ],
      "metadata": {
        "id": "WWO3RJDGdwTB"
      }
    },
    {
      "cell_type": "code",
      "source": [
        "goles_marcados = [2, 1, 3, 1, 0]\n",
        "goles_recibidos = [1, 2, 2, 1, 3]\n",
        "\n",
        "# Texto probablemente mostrado:\n",
        "# La puntuación del equipo fue `puntos` y su rendimiento fue `desempeno`%\"\n",
        "\n",
        "def calcula_puntos(goles_marcados:list, goles_recibidos:list)->tuple:\n",
        "  puntos = []\n",
        "  for i in range(0, len(goles_marcados)):\n",
        "    if goles_marcados[i] > goles_recibidos[i]:\n",
        "      puntos.append(3)\n",
        "    elif goles_marcados[i] < goles_recibidos[i]:\n",
        "      puntos.append(0)\n",
        "    else :\n",
        "      puntos.append(1)\n",
        "\n",
        "  total_puntos = sum(puntos)\n",
        "  rendimiento = (total_puntos*100)/(len(goles_marcados)*3)\n",
        "\n",
        "  return (total_puntos, round(rendimiento,1))\n",
        "\n",
        "datos = calcula_puntos(goles_marcados, goles_recibidos)\n",
        "\n",
        "print(f\"Los puntos del equipo es de {datos[0]} de 15, lo cual les da un rendieminto del {datos[1]}%\")"
      ],
      "metadata": {
        "colab": {
          "base_uri": "https://localhost:8080/"
        },
        "id": "79huJXICdxWT",
        "outputId": "1d6090c5-dfbd-4cb4-f69a-957bade6bf5a"
      },
      "execution_count": 49,
      "outputs": [
        {
          "output_type": "stream",
          "name": "stdout",
          "text": [
            "Los puntos del equipo es de 7 de 15, lo cual les da un rendieminto del 46.7%\n"
          ]
        }
      ]
    },
    {
      "cell_type": "markdown",
      "source": [
        "9 - Te han desafiado a crear un código que calcule los gastos de un viaje a una de las cuatro ciudades desde Recife, siendo ellas: Salvador, Fortaleza, Natal y Aracaju.\n",
        "\n",
        "El costo diario del hotel es de 150 reales en todas ellas y el consumo de gasolina en el viaje en coche es de 14 km/l, siendo que el precio de la gasolina es de 5 reales por litro. Los gastos con paseos y alimentación a realizar en cada una de ellas por día serían [200, 400, 250, 300], respectivamente.\n",
        "\n",
        "Sabiendo que las distancias entre Recife y cada una de las ciudades son aproximadamente [850, 800, 300, 550] km, crea tres funciones: la primera función calcula los gastos de hotel (gasto_hotel), la segunda calcula los gastos de gasolina (gasto_gasolina) y la tercera los gastos de paseo y alimentación (gasto_paseo).\n",
        "\n",
        "Para probar, simula un viaje de 3 días a Salvador desde Recife. Considera el viaje de ida y vuelta en coche."
      ],
      "metadata": {
        "id": "4AG9gop5qtbP"
      }
    },
    {
      "cell_type": "code",
      "source": [
        "#ciudades\n",
        "ciudaddes = ['Salvador', 'Fortaleza', 'Natal' , 'Aracaju']\n",
        "#km desde racife asta salvador, fortalza, natal y aracaju\n",
        "distancia = [850, 800, 300, 550]\n",
        "\n",
        "#gastos alimentos y paseos en cada una de las ciudades\n",
        "gastos = [200, 400, 250, 300]\n",
        "\n",
        "#costo de gasolina por litro\n",
        "gasolina = 5.0\n",
        "\n",
        "#recorrido en auto por litro de gasolina\n",
        "auto = 14.0\n",
        "\n",
        "#costo hotel por noche\n",
        "hotel = 150\n",
        "\n",
        "def gasto_hotel(dias:int)->float:\n",
        "  coste_total = dias*hotel\n",
        "  return coste_total\n",
        "\n",
        "def gasto_gasolina(km_ciudad:int)->float:\n",
        "   coste_total = (km_ciudad/auto)*gasolina\n",
        "   return round(coste_total,2)\n",
        "\n",
        "def gasto_paseo(dias:int,ciudad)->float:\n",
        "  coste_total = dias*ciudad\n",
        "  return coste_total\n",
        "\n",
        "costo_total = gasto_hotel(3) + gasto_gasolina(distancia[0]) + gasto_paseo(3,gastos[0])\n",
        "\n",
        "print(f\"Con base en los gastos definidos, un viaje de 3 días a {ciudaddes[0]} desde Recife costaría {costo_total} reales.\")"
      ],
      "metadata": {
        "colab": {
          "base_uri": "https://localhost:8080/"
        },
        "id": "K5l2MyTcoOBU",
        "outputId": "a7291a34-1847-42e5-d379-7b135d14f783"
      },
      "execution_count": 53,
      "outputs": [
        {
          "output_type": "stream",
          "name": "stdout",
          "text": [
            "Con base en los gastos definidos, un viaje de 3 días a Salvador desde Recife costaría 1353.57 reales.\n"
          ]
        }
      ]
    },
    {
      "cell_type": "code",
      "source": [
        "frase = \"Aprender Python, aquí, en Alura es muy bueno\"\n",
        "frase = frase.replace(\",\", \"\").replace(\".\", \"\").replace(\"?\", \"\")\n",
        "list_frase = frase.split()\n",
        "new_list = list(filter(lambda x: len(x)>=5,list_frase))\n",
        "new_list"
      ],
      "metadata": {
        "colab": {
          "base_uri": "https://localhost:8080/"
        },
        "id": "rkMer_47sHM1",
        "outputId": "617586f9-8087-47e8-fa78-468afc4a3048"
      },
      "execution_count": 58,
      "outputs": [
        {
          "output_type": "execute_result",
          "data": {
            "text/plain": [
              "['Aprender', 'Python', 'Alura', 'bueno']"
            ]
          },
          "metadata": {},
          "execution_count": 58
        }
      ]
    }
  ]
}